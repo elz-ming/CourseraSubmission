{
 "cells": [
  {
   "cell_type": "markdown",
   "metadata": {
    "collapsed": true
   },
   "source": [
    "# My Jupyter Notebook on IBM Watson Studio"
   ]
  },
  {
   "cell_type": "markdown",
   "metadata": {},
   "source": [
    "**Edmund Lin**\n",
    "\n",
    "I want to be an amazing individual in the tech industry, particularly data science and artificial intelligence."
   ]
  },
  {
   "cell_type": "markdown",
   "metadata": {},
   "source": [
    "*I am interested in data science because my high school mathematics teacher inspired me, by telling me the value of data science and the limitless potential it holds. Over the years, I was exposed with many other professions, but data science is still the passion I never lost.*"
   ]
  },
  {
   "cell_type": "markdown",
   "metadata": {},
   "source": [
    "### I am creating a function that says hi (your name).\n"
   ]
  },
  {
   "cell_type": "code",
   "execution_count": 1,
   "metadata": {},
   "outputs": [],
   "source": [
    "def hi(name):\n",
    "    print(f\"hi, {name}!\")"
   ]
  },
  {
   "cell_type": "markdown",
   "metadata": {},
   "source": [
    "- Bullet 1\n",
    "- Bullet 2\n",
    "- Bullet 3\n",
    "\n",
    "1. Numbered 1\n",
    "2. Numbered 2\n",
    "3. Numbered 3\n",
    "\n",
    "|A1|B1|C1|\n",
    "|--|--|--|\n",
    "|A2|B2|C2|\n",
    "|A3|B3|C3|\n",
    "\n",
    "Here's a quote :\n",
    "> He says one day, you'll leave this world behind. So live a life, you will, REMEMBER"
   ]
  },
  {
   "cell_type": "code",
   "execution_count": null,
   "metadata": {},
   "outputs": [],
   "source": []
  }
 ],
 "metadata": {
  "kernelspec": {
   "display_name": "Python 3.10",
   "language": "python",
   "name": "python3"
  },
  "language_info": {
   "codemirror_mode": {
    "name": "ipython",
    "version": 3
   },
   "file_extension": ".py",
   "mimetype": "text/x-python",
   "name": "python",
   "nbconvert_exporter": "python",
   "pygments_lexer": "ipython3",
   "version": "3.10.6"
  }
 },
 "nbformat": 4,
 "nbformat_minor": 1
}
